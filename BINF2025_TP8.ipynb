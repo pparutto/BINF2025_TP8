{
 "cells": [
  {
   "cell_type": "markdown",
   "metadata": {
    "colab_type": "text",
    "id": "view-in-github"
   },
   "source": [
    "<a href=\"https://colab.research.google.com/github/pparutto/BINF2025_TP8/blob/main/BINF2025_TP8.ipynb\" target=\"_parent\"><img src=\"https://colab.research.google.com/assets/colab-badge.svg\" alt=\"Open In Colab\"/></a>"
   ]
  },
  {
   "cell_type": "markdown",
   "metadata": {
    "id": "Y6ZyFufWOi6c"
   },
   "source": [
    "# BINF TP 8 : Genome wide association study\n",
    "\n",
    "L'étude d'association pangénomique - Genome Wide Association study (GWAS) - est une méthode permettant de mettre en avant des mutations génétiques associées à une condition. Pour cela, on va recruter un ensemble de sujets possédant la condition que l’on souhaite étudier et un ensemble de sujets contrôle \"sains\". On va ensuite génotyper (ou séquencer) chaque sujet, c’est-à-dire déterminer les nucléotides présents à un ensembles de positions précises le long du génome. Ces positions sont connues pour posséder plusieurs nucléotides différents (des allèles) dans la population humaine qu'on appelle SNP (Single Nucleotide Polymorphism).\n",
    "\n",
    "Dans ce TP nous allons chercher les gènes associés aux maladies cornariennes - ensemble de maladies où les artères vascularisant le cœur n’arrivent plus à apporter suffisamment de sang pour alimenter les muscles cardiaques. Nous allons utiliser les données de l’étude [PennCath](https://pmc.ncbi.nlm.nih.gov/articles/PMC3335297/). Cette étude comporte 1401 sujets pour lesquels on a génotypé 860473 positions.\n",
    "\n",
    "Les données sont disponibles [ici](https://www.dropbox.com/scl/fo/tyt6sx74zevblzl4i5lpr/AAJt-WmbWCKmsPuRyzYPfP0?rlkey=yuklfyfy7b93yn2sow0uzuzub&dl=0). Notez que le fichier de génotypage complet avec 1401 patients fait > 2 go, pour faciliter le TP, nous utiliserons un fichier réduit avec seulement 100 patients."
   ]
  },
  {
   "cell_type": "markdown",
   "metadata": {
    "id": "DjL8nAEFQg2e"
   },
   "source": [
    "## Exercice 1 : Chargement des données\n",
    "\n",
    "Les données de l’étude sont divisées en plusieurs fichiers :\n",
    "\n",
    "\n",
    "* penncath.bim : qui contient les informations sur les positions génotypées (SNPs), une position par ligne avec les colonnes suivantes :\n",
    "  * Chromosome : pouvant contenir les valeurs 1 – 22, X ou Y.\n",
    "  * Identifiant de la position dans le génome de référence.\n",
    "  *\tDistance génétique (ignorez cette colonne, elle n’est pas remplie dans le fichier).\n",
    "  * Position sur le chromosome en paires de bases (on va aussi ignorer cette colonne).\n",
    "  * Allèle mineure : allèle alternative dans la population (valeurs A,T,G,C ou -9 pour indiquer une absence de données).\n",
    "  *\tAllèle majeure : allèle la plus présente dans la population.\n",
    "\n",
    "*\tpenncath.fam : qui contient les informations sur les sujets, une ligne par individu. Dans ce fichier, on s’intéresse uniquement à la première colonne qui contient l’identifiant de la famille.\n",
    "\n",
    "*\tpenncath.csv : qui contient des informations cliniques sur les patients, en particulier s’il est atteint de la maladie coronarienne. Ce fichier contient une ligne par patient avec les colonnes suivantes :\n",
    "   * Id du patient correspondant à la première colonne du fichier fam.\n",
    "   * Maladie coronarienne : 1=OUI, 0=NON.\n",
    "   * Les autres colonnes ne nous intéressent pas.\n",
    "\n",
    "* genotype_small.csv : contient les donnes de génotypage, une colonne par patient, une ligne par position génotypée. Les valeurs sont : 0 : homozygote allèle majeur, 1 : hétérozygote, 2 : homozygote allèle mineure, 3 : génotype manquant.\n",
    "\n",
    "Chargez les différents fichiers en faisant attention à bien maintenir l’ordre des lignes entre patients et génotypes et associez à chaque patient son statut malade ou sain."
   ]
  },
  {
   "cell_type": "code",
   "execution_count": 3,
   "metadata": {
    "id": "z15tAP9gQHDG",
    "scrolled": true
   },
   "outputs": [
    {
     "data": {
      "text/html": [
       "<div>\n",
       "<style scoped>\n",
       "    .dataframe tbody tr th:only-of-type {\n",
       "        vertical-align: middle;\n",
       "    }\n",
       "\n",
       "    .dataframe tbody tr th {\n",
       "        vertical-align: top;\n",
       "    }\n",
       "\n",
       "    .dataframe thead th {\n",
       "        text-align: right;\n",
       "    }\n",
       "</style>\n",
       "<table border=\"1\" class=\"dataframe\">\n",
       "  <thead>\n",
       "    <tr style=\"text-align: right;\">\n",
       "      <th></th>\n",
       "      <th>FamID</th>\n",
       "      <th>CAD</th>\n",
       "      <th>SNP_0</th>\n",
       "      <th>SNP_1</th>\n",
       "      <th>SNP_2</th>\n",
       "      <th>SNP_3</th>\n",
       "      <th>SNP_4</th>\n",
       "      <th>SNP_5</th>\n",
       "      <th>SNP_6</th>\n",
       "      <th>SNP_7</th>\n",
       "      <th>SNP_8</th>\n",
       "      <th>SNP_9</th>\n",
       "    </tr>\n",
       "  </thead>\n",
       "  <tbody>\n",
       "    <tr>\n",
       "      <th>0</th>\n",
       "      <td>10002.0</td>\n",
       "      <td>1.0</td>\n",
       "      <td>0.0</td>\n",
       "      <td>0.0</td>\n",
       "      <td>0.0</td>\n",
       "      <td>0.0</td>\n",
       "      <td>0.0</td>\n",
       "      <td>0.0</td>\n",
       "      <td>0.0</td>\n",
       "      <td>0.0</td>\n",
       "      <td>0.0</td>\n",
       "      <td>0.0</td>\n",
       "    </tr>\n",
       "    <tr>\n",
       "      <th>1</th>\n",
       "      <td>10004.0</td>\n",
       "      <td>1.0</td>\n",
       "      <td>0.0</td>\n",
       "      <td>0.0</td>\n",
       "      <td>0.0</td>\n",
       "      <td>0.0</td>\n",
       "      <td>NaN</td>\n",
       "      <td>0.0</td>\n",
       "      <td>1.0</td>\n",
       "      <td>0.0</td>\n",
       "      <td>0.0</td>\n",
       "      <td>0.0</td>\n",
       "    </tr>\n",
       "    <tr>\n",
       "      <th>2</th>\n",
       "      <td>10005.0</td>\n",
       "      <td>1.0</td>\n",
       "      <td>0.0</td>\n",
       "      <td>0.0</td>\n",
       "      <td>0.0</td>\n",
       "      <td>0.0</td>\n",
       "      <td>0.0</td>\n",
       "      <td>0.0</td>\n",
       "      <td>0.0</td>\n",
       "      <td>0.0</td>\n",
       "      <td>0.0</td>\n",
       "      <td>0.0</td>\n",
       "    </tr>\n",
       "    <tr>\n",
       "      <th>3</th>\n",
       "      <td>10007.0</td>\n",
       "      <td>1.0</td>\n",
       "      <td>0.0</td>\n",
       "      <td>0.0</td>\n",
       "      <td>0.0</td>\n",
       "      <td>0.0</td>\n",
       "      <td>0.0</td>\n",
       "      <td>0.0</td>\n",
       "      <td>1.0</td>\n",
       "      <td>0.0</td>\n",
       "      <td>0.0</td>\n",
       "      <td>1.0</td>\n",
       "    </tr>\n",
       "    <tr>\n",
       "      <th>4</th>\n",
       "      <td>10008.0</td>\n",
       "      <td>1.0</td>\n",
       "      <td>0.0</td>\n",
       "      <td>0.0</td>\n",
       "      <td>0.0</td>\n",
       "      <td>0.0</td>\n",
       "      <td>0.0</td>\n",
       "      <td>0.0</td>\n",
       "      <td>0.0</td>\n",
       "      <td>0.0</td>\n",
       "      <td>0.0</td>\n",
       "      <td>1.0</td>\n",
       "    </tr>\n",
       "  </tbody>\n",
       "</table>\n",
       "</div>"
      ],
      "text/plain": [
       "     FamID  CAD  SNP_0  SNP_1  SNP_2  SNP_3  SNP_4  SNP_5  SNP_6  SNP_7  \\\n",
       "0  10002.0  1.0    0.0    0.0    0.0    0.0    0.0    0.0    0.0    0.0   \n",
       "1  10004.0  1.0    0.0    0.0    0.0    0.0    NaN    0.0    1.0    0.0   \n",
       "2  10005.0  1.0    0.0    0.0    0.0    0.0    0.0    0.0    0.0    0.0   \n",
       "3  10007.0  1.0    0.0    0.0    0.0    0.0    0.0    0.0    1.0    0.0   \n",
       "4  10008.0  1.0    0.0    0.0    0.0    0.0    0.0    0.0    0.0    0.0   \n",
       "\n",
       "   SNP_8  SNP_9  \n",
       "0    0.0    0.0  \n",
       "1    0.0    0.0  \n",
       "2    0.0    0.0  \n",
       "3    0.0    1.0  \n",
       "4    0.0    1.0  "
      ]
     },
     "execution_count": 3,
     "metadata": {},
     "output_type": "execute_result"
    }
   ],
   "source": [
    "import pandas as pd\n",
    "import numpy as np\n",
    "\n",
    "\n",
    "bim = pd.read_csv('penncath.bim', sep=' ', header=None)\n",
    "fam = pd.read_csv('penncath.fam', sep=' ', header=None)\n",
    "clin = pd.read_csv('penncath.csv')\n",
    "##Je ne suis pas en mesure de charger tout le fichier même avec les 13 Go de google collab.\n",
    "geno = pd.read_csv('genotypes_small.csv', header=None,skiprows=10, nrows=10)\n",
    "\n",
    "fam_ids = fam[0]\n",
    "\n",
    "clin_filtered = clin[['FamID', 'CAD']]\n",
    "clin_filtered = clin_filtered.set_index('FamID').loc[fam[0]].reset_index()\n",
    "\n",
    "\n",
    "geno_T = geno.T\n",
    "geno_T.columns = [f'SNP_{i}' for i in range(geno.shape[0])]\n",
    "\n",
    "patients = pd.concat([fam_ids.reset_index(drop=True), clin_filtered['CAD'], geno_T], axis=1)\n",
    "patients.columns = ['FamID', 'CAD'] + list(geno_T.columns)\n",
    "\n",
    "patients.head()\n"
   ]
  },
  {
   "cell_type": "markdown",
   "metadata": {
    "id": "-7frqd21RQkL"
   },
   "source": [
    "## Exercice 2 : contrôle qualité\n",
    "\n",
    "Comme on manipule des données brutes, certaines vont être problématiques et on va vouloir les enlever pour éviter de biaiser les résultats. Dans cette exercice, nous allons détecter et filtrer les données problématiques.\n",
    "\n",
    "\n",
    "1. Vérifions la distribution des données par chromosome. Affichez le nombre de SNP pour chaque chromosome sous la forme d'un barplot (l'axe x représente chaque chromosome et l'axe y le nombre de SNPs correspondant)."
   ]
  },
  {
   "cell_type": "code",
   "execution_count": 9,
   "metadata": {
    "id": "xvQpFEXcOZUM"
   },
   "outputs": [
    {
     "name": "stderr",
     "output_type": "stream",
     "text": [
      "/tmp/ipykernel_11518/543003071.py:7: FutureWarning: \n",
      "\n",
      "Passing `palette` without assigning `hue` is deprecated and will be removed in v0.14.0. Assign the `x` variable to `hue` and set `legend=False` for the same effect.\n",
      "\n",
      "  sns.barplot(x=snp_par_chrom.index.astype(str), y=snp_par_chrom.values, palette='viridis')\n"
     ]
    },
    {
     "data": {
      "image/png": "[encoded data removed]",
      "text/plain": [
       "<Figure size 720x360 with 1 Axes>"
      ]
     },
     "metadata": {
      "needs_background": "light"
     },
     "output_type": "display_data"
    }
   ],
   "source": [
    "import matplotlib.pyplot as plt\n",
    "import seaborn as sns\n",
    "\n",
    "snp_par_chrom = bim[0].value_counts().sort_index()\n",
    "\n",
    "plt.figure(figsize=(10, 5))\n",
    "sns.barplot(x=snp_par_chrom.index.astype(str), y=snp_par_chrom.values, palette='viridis')\n",
    "plt.xlabel(\"Chromosome\")\n",
    "plt.ylabel(\"Nombre de SNPs\")\n",
    "plt.title(\"Répartition des SNPs par chromosome\")\n",
    "plt.show()\n"
   ]
  },
  {
   "cell_type": "markdown",
   "metadata": {
    "id": "AFMU_MFqRruM"
   },
   "source": [
    "2. Qu’observez-vous ?"
   ]
  },
  {
   "cell_type": "markdown",
   "metadata": {
    "id": "LDCUhOq6Rv6f"
   },
   "source": [
    "On observe une répartition inégale des SNPs selon les chromosomes. Les chromosomes 1 à 6 contiennent le plus grand nombre de SNPs. Ensuite, le nombre de SNPs diminue progressivement."
   ]
  },
  {
   "cell_type": "markdown",
   "metadata": {
    "id": "dxWNvXqCRnpZ"
   },
   "source": [
    "2. Vérifions maintenant les valeurs des allèles. Affichez un barplot comptant la quantité de chaque nucléotide apparaissant dans les allèles mineures (-9 signifie une absence de données, affichez le dans le graphique, c’est important).\n"
   ]
  },
  {
   "cell_type": "code",
   "execution_count": 10,
   "metadata": {
    "id": "kZHuPUREXmC7"
   },
   "outputs": [
    {
     "data": {
      "image/png": "[encoded data removed]",
      "text/plain": [
       "<Figure size 432x288 with 1 Axes>"
      ]
     },
     "metadata": {
      "needs_background": "light"
     },
     "output_type": "display_data"
    }
   ],
   "source": [
    "alleles = bim[4].value_counts().sort_index()\n",
    "\n",
    "plt.figure(figsize=(6,4))\n",
    "sns.barplot(x=alleles.index.astype(str), y=alleles.values)\n",
    "plt.xlabel(\"Allèle mineure\")\n",
    "plt.ylabel(\"Nombre d'occurrences\")\n",
    "plt.title(\"Répartition des allèles mineures (incluant -9)\")\n",
    "plt.show()\n"
   ]
  },
  {
   "cell_type": "markdown",
   "metadata": {
    "id": "hywpavfWXmgj"
   },
   "source": [
    "3. Faites de même avec les valeurs de l’allèle majeure."
   ]
  },
  {
   "cell_type": "code",
   "execution_count": 11,
   "metadata": {
    "id": "S06lFKNFXpi6"
   },
   "outputs": [
    {
     "data": {
      "image/png": "[encoded data removed]",
      "text/plain": [
       "<Figure size 432x288 with 1 Axes>"
      ]
     },
     "metadata": {
      "needs_background": "light"
     },
     "output_type": "display_data"
    }
   ],
   "source": [
    "alleles_major = bim[5].value_counts().sort_index()\n",
    "\n",
    "plt.figure(figsize=(6,4))\n",
    "sns.barplot(x=alleles_major.index.astype(str), y=alleles_major.values)\n",
    "plt.xlabel(\"Allèle majeure\")\n",
    "plt.ylabel(\"Nombre d'occurrences\")\n",
    "plt.title(\"Répartition des allèles majeures (incluant -9)\")\n",
    "plt.show()\n"
   ]
  },
  {
   "cell_type": "markdown",
   "metadata": {
    "id": "fKPlBpolXp4a"
   },
   "source": [
    "4. Qu’observez-vous en comparant ces deux graphiques ?"
   ]
  },
  {
   "cell_type": "markdown",
   "metadata": {
    "id": "ZkIiI0MiXrkv"
   },
   "source": [
    "Hmmmmm"
   ]
  },
  {
   "cell_type": "markdown",
   "metadata": {
    "id": "SxErlU8mXztr"
   },
   "source": [
    "5. Intéressons-nous maintenant aux données de génotypage. Dans ces données, une valeur NAN indique qu’il y a eu une erreur au niveau de l'acquisition des données. Affichez l’histogramme du nombre d’erreurs de génotypage par patient (nombre de NAN ou valeurs 4)."
   ]
  },
  {
   "cell_type": "code",
   "execution_count": 12,
   "metadata": {
    "id": "KMhUoEfiYFZw"
   },
   "outputs": [
    {
     "data": {
      "image/png": "[encoded data removed]",
      "text/plain": [
       "<Figure size 576x288 with 1 Axes>"
      ]
     },
     "metadata": {
      "needs_background": "light"
     },
     "output_type": "display_data"
    }
   ],
   "source": [
    "geno = geno.replace(4, np.nan)\n",
    "\n",
    "nb_erreurs_par_patient = geno.isna().sum(axis=0)\n",
    "\n",
    "plt.figure(figsize=(8,4))\n",
    "sns.histplot(nb_erreurs_par_patient, bins=30, kde=False)\n",
    "plt.xlabel(\"Nombre d'erreurs de génotypage par patient\")\n",
    "plt.ylabel(\"Nombre de patients\")\n",
    "plt.title(\"Distribution des erreurs de génotypage\")\n",
    "plt.show()"
   ]
  },
  {
   "cell_type": "markdown",
   "metadata": {
    "id": "HcUwaM30X-S_"
   },
   "source": [
    "6. Affichez l’histogramme du nombre d’erreurs par position de SNP (nombre de NAN ou valeurs 4)."
   ]
  },
  {
   "cell_type": "code",
   "execution_count": 13,
   "metadata": {
    "id": "jyvNaVywYFAU"
   },
   "outputs": [
    {
     "data": {
      "image/png": "[encoded data removed]",
      "text/plain": [
       "<Figure size 576x288 with 1 Axes>"
      ]
     },
     "metadata": {
      "needs_background": "light"
     },
     "output_type": "display_data"
    }
   ],
   "source": [
    "nb_erreurs_par_snp = geno.isna().sum(axis=1)\n",
    "\n",
    "plt.figure(figsize=(8,4))\n",
    "sns.histplot(nb_erreurs_par_snp, bins=30, kde=False)\n",
    "plt.xlabel(\"Nombre d'erreurs de génotypage par SNP\")\n",
    "plt.ylabel(\"Nombre de SNPs\")\n",
    "plt.title(\"Distribution des erreurs de génotypage par position\")\n",
    "plt.show()\n",
    "\n"
   ]
  },
  {
   "cell_type": "markdown",
   "metadata": {
    "id": "M3hZVT8AYFzj"
   },
   "source": [
    "7. Retirez tous les SNP qui possèdent des valeurs à NaN ainsi que ceux possédant une seule valeur chez tous les patients. Faites attention de garder la liste des caractéristiques des SNP bien synchronisé car nous l’utiliserons pour la dernière question."
   ]
  },
  {
   "cell_type": "code",
   "execution_count": 16,
   "metadata": {
    "id": "e6InXC4lYTE_"
   },
   "outputs": [],
   "source": [
    "mask_no_nan = ~geno.isna().any(axis=1)\n",
    "\n",
    "mask_variable = geno.nunique(axis=1) > 1\n",
    "\n",
    "mask_valid = mask_no_nan & mask_variable\n",
    "geno_filtered = geno[mask_valid].reset_index(drop=True)\n"
   ]
  },
  {
   "cell_type": "markdown",
   "metadata": {
    "id": "seIzd4axYfzB"
   },
   "source": [
    "## Exercice 3 : Association\n",
    "\n",
    "Pour chaque SNP on va calculer sa probabilité d’être sur ou sous-représenté dans la population malade comparé à la population contrôle. Il existe plusieurs méthodes statistiques plus ou moins sophistiquées pour faire celà, nous allons voir la méthode la plus simple utilisant des tableaux de comptes d’allèles.\n",
    "\n",
    "1. Pour chaque génotype k, construisez le tableau 2x2 suivant O :\n",
    "$$\\begin{array}{|l|ll|}\n",
    "\\hline\n",
    "& Allele\\ mineure & Allele\\ majeure\\\\\\hline\n",
    "sain & a & b\\\\\n",
    "malade & c & d\\\\\n",
    "\\hline\n",
    "\\end{array}$$\n",
    "où $a,b$ sont les nombres de patients sain possédant l'allèle mineure ou majeure (respectivement) et $c,d$ les nombres de patients malades possédant l'alèlle mineure ou majeure (respectivement), pour le génotype $k$."
   ]
  },
  {
   "cell_type": "code",
   "execution_count": null,
   "metadata": {
    "id": "hr7QPkDoaewc"
   },
   "outputs": [],
   "source": [
    "print(\"Votre code ici !!\")"
   ]
  },
  {
   "cell_type": "markdown",
   "metadata": {
    "id": "dUNmVWUKafWU"
   },
   "source": [
    "2. \tPour chaque génotype $k$, calculez une p-value en effectuant un test du $\\chi^2$ sur la table $O$ :\n",
    "$$\n",
    "z_{ij} = \\frac{(o_{ij}-e_{ij})^2}{e_{ij}},\n",
    "$$\n",
    "où $o_{ij}$ est la valeure de la case $i,j$ de la table $O$ (la valeure observée) et $e$ la valeur attendue selon l'hypothèse nulle calculée par:\n",
    "$$e_{ij} = \\frac{\\left(\\sum\\limits_{k=1}^{2}o_{k,j}\\right)\\left(\\sum\\limits_{k=1}^{2}o_{i,k}\\right)}{\\sum\\limits_{k=1}^{2}\\sum\\limits_{l=1}^{2} o_{kl}}.$$\n",
    "\n",
    " Finalement $z = z_{11} + z_{12} + z_{21} + z_{22}$ doit suivre une loi du $\\chi^2$ à 1 degré de liberté. La p-value que le génotype mutant du SNP $k$ ait un effet sur la maladie est donnée par la probabilité associée à $z$.\n",
    "\n",
    " Vous pouvez utilisez la fonction chi2_contingency de scipy.stats."
   ]
  },
  {
   "cell_type": "code",
   "execution_count": null,
   "metadata": {
    "id": "15Wj_0G9cHjO"
   },
   "outputs": [],
   "source": [
    "print(\"Votre code ici !!\")"
   ]
  },
  {
   "cell_type": "markdown",
   "metadata": {
    "id": "kD9k-sLzcLCV"
   },
   "source": [
    "3. Affichez les résultat sous forme de graphique de Manhattan. Affichez toutes les paires (i, -log10(pval[i])) avec un marqueur « . »."
   ]
  },
  {
   "cell_type": "code",
   "execution_count": null,
   "metadata": {
    "id": "Bel6m2NzcaEA"
   },
   "outputs": [],
   "source": [
    "print(\"Votre code ici !!\")"
   ]
  },
  {
   "cell_type": "markdown",
   "metadata": {
    "id": "8XEzGFnFcaa_"
   },
   "source": [
    "4. Finalement, affichez les identifiants de tous les SNPs significativement plus présents chez les patients malades que sain. C'est à dire, les SNP avec\n",
    "$$-log10(pval) > 5$$"
   ]
  },
  {
   "cell_type": "code",
   "execution_count": null,
   "metadata": {
    "id": "4Vcj3SXOcpZF"
   },
   "outputs": [],
   "source": [
    "print(\"Votre code ici !!\")"
   ]
  }
 ],
 "metadata": {
  "colab": {
   "authorship_tag": "ABX9TyO4EBlCniHmp+9B7KsSDhF9",
   "include_colab_link": true,
   "provenance": []
  },
  "kernelspec": {
   "display_name": "Python 3 (ipykernel)",
   "language": "python",
   "name": "python3"
  },
  "language_info": {
   "codemirror_mode": {
    "name": "ipython",
    "version": 3
   },
   "file_extension": ".py",
   "mimetype": "text/x-python",
   "name": "python",
   "nbconvert_exporter": "python",
   "pygments_lexer": "ipython3",
   "version": "3.10.12"
  }
 },
 "nbformat": 4,
 "nbformat_minor": 1
}
